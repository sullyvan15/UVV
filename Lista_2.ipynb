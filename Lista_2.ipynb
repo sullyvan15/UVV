{
  "nbformat": 4,
  "nbformat_minor": 0,
  "metadata": {
    "colab": {
      "name": "Lista 2",
      "provenance": [],
      "collapsed_sections": [
        "Xtmi5OcLr9Tv"
      ],
      "toc_visible": true,
      "include_colab_link": true
    },
    "kernelspec": {
      "name": "python3",
      "display_name": "Python 3"
    }
  },
  "cells": [
    {
      "cell_type": "markdown",
      "metadata": {
        "id": "view-in-github",
        "colab_type": "text"
      },
      "source": [
        "<a href=\"https://colab.research.google.com/github/sullyvan15/Universidade-Vila-Velha/blob/master/Lista_2.ipynb\" target=\"_parent\"><img src=\"https://colab.research.google.com/assets/colab-badge.svg\" alt=\"Open In Colab\"/></a>"
      ]
    },
    {
      "cell_type": "markdown",
      "metadata": {
        "id": "G90zxY79qIXe"
      },
      "source": [
        "<?xml version=\"1.0\" encoding=\"UTF-8\"?>\n",
        "<html>\n",
        "  <body>\n",
        "    <header></header>\n",
        "        <CENTER>\n",
        "          <img src=\"https://www.uvv.br/wp-content/themes/uvvBr/templates/assets//img/logouvv.svg\" alt=\"UVV-LOGO\" style = width=\"100px\"; height=\"100px\">\n",
        "        </CENTER>    \n",
        "        <CENTER><b>Laboratório de Programação- PYTHON</b><br/>\n",
        "        <CENTER><b>Lista de Exercício 2 - Estrutura de Repetição</b><br/>\n",
        "        <CENTER><b>Professor Alessandro Bertolani Oliveira</b></CENTER><br/>"
      ]
    },
    {
      "cell_type": "markdown",
      "metadata": {
        "id": "f9ly1B47rg_O"
      },
      "source": [
        "## NOME: Sullyvan Marks Nascimento De Oliveira"
      ]
    },
    {
      "cell_type": "markdown",
      "metadata": {
        "id": "DReHYxjEsSKr"
      },
      "source": [
        "# Estrutura de repetição: for / in range / while / break"
      ]
    },
    {
      "cell_type": "markdown",
      "metadata": {
        "id": "l5GPMQSeCVAR"
      },
      "source": [
        "## Exercício 1\n",
        "Escrever um algoritmo para exibir os múltiplos de 3 compreendidos no intervalo: [3 100]."
      ]
    },
    {
      "cell_type": "code",
      "metadata": {
        "id": "VYNU53cnCrCP",
        "outputId": "6e0753e7-5f07-4162-cc1b-3f2e5f08a851",
        "colab": {
          "base_uri": "https://localhost:8080/",
          "height": 578
        }
      },
      "source": [
        "cont = 0\n",
        "for x in range(3, 100):\n",
        "    if x % 3 == 0:\n",
        "      cont = cont + 1\n",
        "      print(f'Multiplo {cont}: {x}')\n"
      ],
      "execution_count": 12,
      "outputs": [
        {
          "output_type": "stream",
          "text": [
            "Multiplo 1: 3\n",
            "Multiplo 2: 6\n",
            "Multiplo 3: 9\n",
            "Multiplo 4: 12\n",
            "Multiplo 5: 15\n",
            "Multiplo 6: 18\n",
            "Multiplo 7: 21\n",
            "Multiplo 8: 24\n",
            "Multiplo 9: 27\n",
            "Multiplo 10: 30\n",
            "Multiplo 11: 33\n",
            "Multiplo 12: 36\n",
            "Multiplo 13: 39\n",
            "Multiplo 14: 42\n",
            "Multiplo 15: 45\n",
            "Multiplo 16: 48\n",
            "Multiplo 17: 51\n",
            "Multiplo 18: 54\n",
            "Multiplo 19: 57\n",
            "Multiplo 20: 60\n",
            "Multiplo 21: 63\n",
            "Multiplo 22: 66\n",
            "Multiplo 23: 69\n",
            "Multiplo 24: 72\n",
            "Multiplo 25: 75\n",
            "Multiplo 26: 78\n",
            "Multiplo 27: 81\n",
            "Multiplo 28: 84\n",
            "Multiplo 29: 87\n",
            "Multiplo 30: 90\n",
            "Multiplo 31: 93\n",
            "Multiplo 32: 96\n",
            "Multiplo 33: 99\n"
          ],
          "name": "stdout"
        }
      ]
    },
    {
      "cell_type": "markdown",
      "metadata": {
        "id": "6lhde--gp-wl"
      },
      "source": [
        "## Exercício 2\n",
        "Escrever um algoritmo para exibir os múltiplos de 11, a soma e a média dos múltiplos de 11, em ordem\n",
        "decrescente (inversa), compreendidos entre o intervalo: [200 100].\n",
        "\n"
      ]
    },
    {
      "cell_type": "code",
      "metadata": {
        "id": "PxbZp-b7qmWr",
        "outputId": "6403d69e-d606-45c5-f609-f26524c6317f",
        "colab": {
          "base_uri": "https://localhost:8080/",
          "height": 204
        }
      },
      "source": [
        "soma = 0\n",
        "media = 0\n",
        "contador = 0\n",
        "\n",
        "for contador in range(200, 100, -1):\n",
        "    if contador % 11 == 0:\n",
        "        print(f'Multiplo: {contador}')\n",
        "        soma = contador + soma\n",
        "        media = soma / contador\n",
        "print(f'soma: {soma}')\n",
        "print(f'media: {media}')\n"
      ],
      "execution_count": 1,
      "outputs": [
        {
          "output_type": "stream",
          "text": [
            "Multiplo: 198\n",
            "Multiplo: 187\n",
            "Multiplo: 176\n",
            "Multiplo: 165\n",
            "Multiplo: 154\n",
            "Multiplo: 143\n",
            "Multiplo: 132\n",
            "Multiplo: 121\n",
            "Multiplo: 110\n",
            "soma: 1386\n",
            "media: 12.6\n"
          ],
          "name": "stdout"
        }
      ]
    },
    {
      "cell_type": "markdown",
      "metadata": {
        "id": "cWuH21jarLP0"
      },
      "source": [
        "## Exercício 4\n",
        "Faça um algoritmo que exiba a soma dos PARES e ÍMPARES compreendidos entre [10 99].\n"
      ]
    },
    {
      "cell_type": "code",
      "metadata": {
        "id": "P-wfPVU0rU6H",
        "outputId": "aba58070-a23f-472c-be22-e5519df2b973",
        "colab": {
          "base_uri": "https://localhost:8080/",
          "height": 51
        }
      },
      "source": [
        "somapar = 0\n",
        "\n",
        "for contador in range(10, 99):\n",
        "    if contador % 2 == 0:\n",
        "        somapar = somapar + contador\n",
        "\n",
        "    else:\n",
        "        somaimpar = somapar + contador\n",
        "\n",
        "print(f'Soma dos pares: {somapar}')\n",
        "print(f'Soma dos impares: {somaimpar}')\n"
      ],
      "execution_count": 4,
      "outputs": [
        {
          "output_type": "stream",
          "text": [
            "Soma dos pares: 2430\n",
            "Soma dos impares: 2429\n"
          ],
          "name": "stdout"
        }
      ]
    },
    {
      "cell_type": "markdown",
      "metadata": {
        "id": "5LaYbmC7Nauw"
      },
      "source": [
        "## Exercício 5\n",
        "Escreva um algoritmo que leia de 10.000 habitantes de uma pequena cidade se está empregado ou não e exiba em porcentagem a quantidade de empregados e desempregados desta pequena cidade."
      ]
    },
    {
      "cell_type": "code",
      "metadata": {
        "id": "MW-BlFATNgsP",
        "outputId": "1e47a76b-83cb-40b6-f9d3-9e8a2426e150",
        "colab": {
          "base_uri": "https://localhost:8080/",
          "height": 255
        }
      },
      "source": [
        "\n",
        "empregado = 0;\n",
        "desempregado = 0;\n",
        "ContHab = 1;\n",
        "habitante = 10000\n",
        "for h in range(0, habitante):\n",
        "    ler = int(input(f'Habitante {ContHab} está empregado? (Digite 1- Sim 2- Não): '))\n",
        "    if ler != 1 and ler != 2:\n",
        "        print(\"Dados inválidos. Tente novamente.\")\n",
        "    else:\n",
        "        ContHab += 1\n",
        "        if ler == 1:\n",
        "            empregado += 1\n",
        "        else:\n",
        "            desempregado += 1\n",
        "\n",
        "QuantEmpregado = empregado * 100 / habitante\n",
        "QuantDesempregado = desempregado * 100 / habitante\n",
        "\n",
        "print(f'Quantidade de Empregados: {empregado} sendo {QuantEmpregado: .2f}% do Total de habitantes ')\n",
        "print(f'Quantidade de Desempregados: {desempregado} sendo {QuantDesempregado: .2f}% do Total de habitantes ')"
      ],
      "execution_count": 6,
      "outputs": [
        {
          "output_type": "stream",
          "text": [
            "Habitante 1 esta? Digite 1-Sim 2-Não 1\n",
            "Habitante 2 esta? Digite 1-Sim 2-Não 2\n",
            "Habitante 3 esta? Digite 1-Sim 2-Não 3\n",
            "Dados inválidos. Tente novamente.\n",
            "Habitante 3 esta? Digite 1-Sim 2-Não 1\n",
            "Habitante 4 esta? Digite 1-Sim 2-Não 2\n",
            "Habitante 5 esta? Digite 1-Sim 2-Não 3\n",
            "Dados inválidos. Tente novamente.\n",
            "Habitante 5 esta? Digite 1-Sim 2-Não 1\n",
            "Habitante 6 esta? Digite 1-Sim 2-Não 1\n",
            "Habitante 7 esta? Digite 1-Sim 2-Não 2\n",
            "Habitante 8 esta? Digite 1-Sim 2-Não 1\n",
            "Quantidade de Empregados: 5 sendo  0.05% do Total de habitantes \n",
            "Quantidade de Desempregados: 3 sendo  0.03% do Total de habitantes \n"
          ],
          "name": "stdout"
        }
      ]
    },
    {
      "cell_type": "markdown",
      "metadata": {
        "id": "9lNeSyASNlmo"
      },
      "source": [
        "## Exercício 6\n",
        "Escreva um algoritmo que leia o salário em reais (R$) de 1000 clientes de um shopping e exiba na tela, em porcentagem, a divisão dos clientes por tipo: A, B ou C, conforme a seguir:\n",
        "\n",
        "✓ A: Maior ou igual a 15 Salários Mínimos ou\n",
        "\n",
        "✓ B: Menor que 15 Salários Mínimos ou maior ou igual a 5 Salários Mínimos ou\n",
        "\n",
        "✓ C: Menor que 5 Salários Mínimos.\n",
        "Declarar o Salário Mínimo (SM: R$ 998.05).\n"
      ]
    },
    {
      "cell_type": "code",
      "metadata": {
        "id": "YG-Wjg7-NuDZ",
        "outputId": "c094a37d-b028-433a-ddaa-27a42d52cd1f",
        "colab": {
          "base_uri": "https://localhost:8080/",
          "height": 442
        }
      },
      "source": [
        "\n",
        "salMinimo = 998.05\n",
        "contclient = 0\n",
        "\n",
        "a = 0\n",
        "b = 0\n",
        "c = 0\n",
        "\n",
        "TotalCliente = int(input('Insira a Quantidade de Cliente a ser Pesquisado: '))\n",
        "\n",
        "for x in range(0, TotalCliente):\n",
        "    contclient += 1\n",
        "    salario = float(input(f'Insira o Salário do Cliente {contclient} em R$: '))\n",
        "    if salario >= (salMinimo * 15):\n",
        "        print('Cliente Tipo A ')\n",
        "        a += 1\n",
        "    elif salario < (salMinimo * 15) and salario >= (salMinimo * 5):\n",
        "        print('Cliente Tipo B')\n",
        "        b += 1\n",
        "\n",
        "    else:\n",
        "        print('Cliente Tipo C')\n",
        "        c += 1\n",
        "\n",
        "\n",
        "claA = a * 100 / TotalCliente\n",
        "\n",
        "claB = b * 100 / TotalCliente\n",
        "\n",
        "claC = c * 100 / TotalCliente\n",
        "\n",
        "print(f'Total de Tipos de Clientes:')\n",
        "print(f'A = {a} Cerca de {claA: .1f}%')\n",
        "print(f'B = {b} Cerca de {claB: .1f}%')\n",
        "print(f'C = {c} Cerca de {claC: .1f}%')"
      ],
      "execution_count": 3,
      "outputs": [
        {
          "output_type": "stream",
          "text": [
            "Insira a Quantidade de Cliente a ser Pesquisado: 10\n",
            "Insira o Salário do Cliente 1 em R$: 1000.00\n",
            "Cliente Tipo C\n",
            "Insira o Salário do Cliente 2 em R$: 2000.00\n",
            "Cliente Tipo C\n",
            "Insira o Salário do Cliente 3 em R$: 3000.00\n",
            "Cliente Tipo C\n",
            "Insira o Salário do Cliente 4 em R$: 6000.00\n",
            "Cliente Tipo B\n",
            "Insira o Salário do Cliente 5 em R$: 7000.00\n",
            "Cliente Tipo B\n",
            "Insira o Salário do Cliente 6 em R$: 8000.00\n",
            "Cliente Tipo B\n",
            "Insira o Salário do Cliente 7 em R$: 10000.00\n",
            "Cliente Tipo B\n",
            "Insira o Salário do Cliente 8 em R$: 15000.00\n",
            "Cliente Tipo A \n",
            "Insira o Salário do Cliente 9 em R$: 25000.00\n",
            "Cliente Tipo A \n",
            "Insira o Salário do Cliente 10 em R$: 35000.00\n",
            "Cliente Tipo A \n",
            "Total de Tipos de Clientes:\n",
            "A = 3 Cerca de  30.0%\n",
            "B = 4 Cerca de  40.0%\n",
            "C = 3 Cerca de  30.0%\n"
          ],
          "name": "stdout"
        }
      ]
    },
    {
      "cell_type": "markdown",
      "metadata": {
        "id": "ZImnVVABrWEH"
      },
      "source": [
        "## Exercício 7\n",
        "Escrever um algoritmo que conte e soma todos os números ímpares que são múltiplos de três e NÃO\n",
        "múltiplos de 5 que se encontram no intervalo [9 90]. Exiba a Contagem e a Soma destes números.\n",
        "\n"
      ]
    },
    {
      "cell_type": "code",
      "metadata": {
        "id": "XtE-YbN7rbjx",
        "outputId": "25e496e7-10d6-4d46-f988-b712517d7b56",
        "colab": {
          "base_uri": "https://localhost:8080/",
          "height": 204
        }
      },
      "source": [
        "soma = 0\n",
        "posicao = 0\n",
        "# Ok\n",
        "for contador in range(9, 90):\n",
        "    if contador % 2 == 1 and contador % 3 == 0 and contador % 5 != 0:\n",
        "        soma = contador + soma\n",
        "        posicao = posicao = posicao + 1\n",
        "\n",
        "        print(f'Soma N°{posicao}: {soma}')\n"
      ],
      "execution_count": 5,
      "outputs": [
        {
          "output_type": "stream",
          "text": [
            "Soma N°1: 9\n",
            "Soma N°2: 30\n",
            "Soma N°3: 57\n",
            "Soma N°4: 90\n",
            "Soma N°5: 129\n",
            "Soma N°6: 180\n",
            "Soma N°7: 237\n",
            "Soma N°8: 300\n",
            "Soma N°9: 369\n",
            "Soma N°10: 450\n",
            "Soma N°11: 537\n"
          ],
          "name": "stdout"
        }
      ]
    },
    {
      "cell_type": "markdown",
      "metadata": {
        "id": "t2qeFicNN2iY"
      },
      "source": [
        "## Exercício 9\n",
        "Escrever um algoritmo que leia vários Números 𝑁 (𝑢𝑚 𝑝𝑜𝑟 𝑣𝑒𝑧) que, no intervalo entre [10 90], divididos por 5 possuem resto 2. Exiba a soma dos números lidos, parando o programa para 𝑁=0."
      ]
    },
    {
      "cell_type": "code",
      "metadata": {
        "id": "OvvqXY4FN9T9",
        "outputId": "56cc6ae0-97cc-495d-8973-bb0f85857920",
        "colab": {
          "base_uri": "https://localhost:8080/",
          "height": 102
        }
      },
      "source": [
        "\n",
        "soma = 0\n",
        "for x in range(10, 90):\n",
        "    ler = int(input('Digite um Número que dividido por 5, o resto é 2, Pressione 0 para parar: '))\n",
        "    if ler % 5 == 2:\n",
        "        print(f'O Número {ler} está Aprovado')\n",
        "        soma = soma + ler\n",
        "    elif ler > 0 and ler < 10:\n",
        "        print('Erro Na Leitura, Porfavor Escolha Valores entre 10 a 90')\n",
        "    elif ler == 0:\n",
        "        print('Fim da Leitura')\n",
        "        break\n",
        "    else:\n",
        "        print('O Número não é divisível por 5 ou resto não = 2')\n",
        "\n",
        "print(f'Somatória dos Números Lidos: {soma}')"
      ],
      "execution_count": 2,
      "outputs": [
        {
          "output_type": "stream",
          "text": [
            "Digite um Número que dividido por 5, o resto é 2, Pressione 0 para parar: 22\n",
            "O Número 22 está Aprovado\n",
            "Digite um Número que dividido por 5, o resto é 2, Pressione 0 para parar: 0\n",
            "Fim da Leitura\n",
            "Somatória dos Números Lidos: 22\n"
          ],
          "name": "stdout"
        }
      ]
    },
    {
      "cell_type": "markdown",
      "metadata": {
        "id": "OEl5a_5bOGuf"
      },
      "source": [
        "## Exercício 10\n",
        "Escrever um algoritmo para que calcule a média dos números múltiplos de 6 que se encontram no intervalo de [6,6𝑥]. Onde 𝑥 é um (1) único número inteiro positivo (𝑥≥1), lido do usuário.\n",
        "\n"
      ]
    },
    {
      "cell_type": "code",
      "metadata": {
        "id": "N8lPhlzlORkC",
        "outputId": "101ea7ab-7522-4e60-c872-6c492ef172c6",
        "colab": {
          "base_uri": "https://localhost:8080/",
          "height": 102
        }
      },
      "source": [
        "numero = int(input('Insira o Número: '))\n",
        "contador = 0\n",
        "soma = 0\n",
        "for x in range(6, 6 * numero):\n",
        "    if x % 6 == 0:\n",
        "        print(f'{x}')\n",
        "        contador += 1\n",
        "        soma = soma + x\n",
        "print(f'Somatória: {soma}')\n",
        "media = soma / contador\n",
        "print(f'Quantidade de Múltiplos: {contador}')\n",
        "print(f'Média dos Múltiplos: {media}')"
      ],
      "execution_count": 1,
      "outputs": [
        {
          "output_type": "stream",
          "text": [
            "Insira o Número: 2\n",
            "6\n",
            "Somatória: 6\n",
            "Quantidade de Múltiplos: 1\n",
            "Média dos Múltiplos: 6.0\n"
          ],
          "name": "stdout"
        }
      ]
    },
    {
      "cell_type": "markdown",
      "metadata": {
        "id": "pqcGnUNtrceV"
      },
      "source": [
        "## Exercício 15\n",
        "Escrever um algoritmo que leia vários números reais (um por um) e exiba, em porcentagem, a\n",
        "quantidade de positivos e de negativos lidos. Pare o programa quando o usuário digitar ZERO.\n",
        "\n"
      ]
    },
    {
      "cell_type": "code",
      "metadata": {
        "id": "NZEmAassrezr",
        "outputId": "1e493505-6140-4ce4-dd30-bf5d81547287",
        "colab": {
          "base_uri": "https://localhost:8080/",
          "height": 221
        }
      },
      "source": [
        "contanegativo = 0\n",
        "contageral = 0\n",
        "contapositivo = 0\n",
        "numPositivos = 0\n",
        "numNegativos = 0\n",
        "valor = 1\n",
        "\n",
        "while valor != 0:\n",
        "    valor = float(input('Digite um número real ou 0 para sair do programa: '))\n",
        "    if valor < 0 or valor > 0:  # Para excluir o 0 dos valores lidos\n",
        "        contageral += 1\n",
        "        if valor % 2 == 0:\n",
        "            contapositivo += 1\n",
        "        else:\n",
        "            contanegativo += 1\n",
        "    if contageral != 0:\n",
        "        numPositivos = contapositivo / contageral * 100\n",
        "        numNegativos = contanegativo / contageral * 100\n",
        "\n",
        "    else:\n",
        "        print(f'Nenhum numero positivo e negativo lido. ')\n",
        "\n",
        "print(f'números postivos: {numPositivos: .1f} %')\n",
        "print(f'números negativos: {numNegativos: .1f} %')\n"
      ],
      "execution_count": 6,
      "outputs": [
        {
          "output_type": "stream",
          "text": [
            "Digite um número real ou O para sair do programa: 1\n",
            "Digite um número real ou O para sair do programa: 2\n",
            "Digite um número real ou O para sair do programa: 3\n",
            "Digite um número real ou O para sair do programa: 4\n",
            "Digite um número real ou O para sair do programa: 5\n",
            "Digite um número real ou O para sair do programa: 6\n",
            "Digite um número real ou O para sair do programa: 7\n",
            "Digite um número real ou O para sair do programa: 8\n",
            "Digite um número real ou O para sair do programa: 9\n",
            "Digite um número real ou O para sair do programa: 0\n",
            "números postivos:  44.4 %\n",
            "números negativos:  55.6 %\n"
          ],
          "name": "stdout"
        }
      ]
    },
    {
      "cell_type": "markdown",
      "metadata": {
        "id": "795_vf7_rnht"
      },
      "source": [
        "## Exercício 16\n",
        "Escreva um algoritmo que leia 300 números positivos e exiba o menor e o maior: par e ímpar.\n",
        "\n"
      ]
    },
    {
      "cell_type": "code",
      "metadata": {
        "id": "MBCLyFC5r_9u",
        "outputId": "27c904a5-1d42-4724-b173-2bb5ff806f78",
        "colab": {
          "base_uri": "https://localhost:8080/",
          "height": 221
        }
      },
      "source": [
        "i = 0\n",
        "maiorpar = 0\n",
        "maiorimpar = 0\n",
        "menorpar = menorimpar = 9999999999\n",
        "\n",
        "\n",
        "while i < 300:\n",
        "    numero = float(input('Entre com um número: '))\n",
        "    if numero % 2 == 0:\n",
        "        if numero > maiorpar:\n",
        "            maiorpar = numero\n",
        "        if numero < menorpar:\n",
        "            menorpar = numero\n",
        "    else:\n",
        "        if numero > maiorimpar:\n",
        "            maiorimpar = numero\n",
        "        if numero < menorimpar:\n",
        "            menorimpar = numero\n",
        "    i = i + 1\n",
        "\n",
        "print(f'Maior par: {maiorpar} e Menor par: {menorpar} \\n'\n",
        "      f'Maior Impar: {maiorimpar} e Menor Impar: {menorimpar}')\n"
      ],
      "execution_count": 8,
      "outputs": [
        {
          "output_type": "stream",
          "text": [
            "Entre com um número: 1\n",
            "Entre com um número: 2\n",
            "Entre com um número: 3\n",
            "Entre com um número: 4\n",
            "Entre com um número: 5\n",
            "Entre com um número: 6\n",
            "Entre com um número: 7\n",
            "Entre com um número: 8\n",
            "Entre com um número: 9\n",
            "Entre com um número: 10\n",
            "Maior par: 10.0 e Menor par: 2.0 \n",
            "Maior Impar: 9.0 e Menor Impar: 1.0\n"
          ],
          "name": "stdout"
        }
      ]
    }
  ]
}