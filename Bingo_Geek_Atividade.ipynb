{
  "nbformat": 4,
  "nbformat_minor": 0,
  "metadata": {
    "colab": {
      "name": "Bingo Geek  - Atividade",
      "provenance": [],
      "collapsed_sections": [],
      "include_colab_link": true
    },
    "kernelspec": {
      "name": "python3",
      "display_name": "Python 3"
    },
    "accelerator": "TPU"
  },
  "cells": [
    {
      "cell_type": "markdown",
      "metadata": {
        "id": "view-in-github",
        "colab_type": "text"
      },
      "source": [
        "<a href=\"https://colab.research.google.com/github/sullyvan15/Universidade-Vila-Velha/blob/master/Bingo_Geek_Atividade.ipynb\" target=\"_parent\"><img src=\"https://colab.research.google.com/assets/colab-badge.svg\" alt=\"Open In Colab\"/></a>"
      ]
    },
    {
      "cell_type": "markdown",
      "metadata": {
        "id": "G90zxY79qIXe"
      },
      "source": [
        "<?xml version=\"1.0\" encoding=\"UTF-8\"?>\n",
        "<html>\n",
        "  <body>\n",
        "    <header></header>\n",
        "        <CENTER>\n",
        "          <img src=\"https://www.uvv.br/wp-content/themes/uvvBr/templates/assets//img/logouvv.svg\" alt=\"UVV-LOGO\" style = width=\"100px\"; height=\"100px\">\n",
        "        </CENTER>    \n",
        "        <CENTER><b>Laboratório de Programação - Python</b><br/>\n",
        "        <CENTER><b>Prof.: Alessandro Bertolani Oliveira</b>\n",
        "        <CENTER><b>Bingo Nerd - Hexadecimal</b><br/></CENTER><br/>"
      ]
    },
    {
      "cell_type": "markdown",
      "metadata": {
        "id": "f9ly1B47rg_O"
      },
      "source": [
        "# NOMES DO GRUPO:"
      ]
    },
    {
      "cell_type": "markdown",
      "metadata": {
        "id": "qYKWYMpJuImX"
      },
      "source": [
        "Nome 1:"
      ]
    },
    {
      "cell_type": "markdown",
      "metadata": {
        "id": "UDMkpYAAuLeH"
      },
      "source": [
        "Nome 2:"
      ]
    },
    {
      "cell_type": "markdown",
      "metadata": {
        "id": "dJKj_NK1uNvm"
      },
      "source": [
        "Nome 3:"
      ]
    },
    {
      "cell_type": "markdown",
      "metadata": {
        "id": "hvltRkY5lj2V"
      },
      "source": [
        "## DESCRIÇÃO DO TRABALHO: BINGO NERD (HEXADECIMAL)"
      ]
    },
    {
      "cell_type": "markdown",
      "metadata": {
        "id": "CTooomyJTBYA"
      },
      "source": [
        "\n",
        "\n",
        "![image.png](data:image/png;base64,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)"
      ]
    },
    {
      "cell_type": "markdown",
      "metadata": {
        "id": "ToYShFt0TFTn"
      },
      "source": [
        "**BINGO HEXADECIMAL**: Fazer um Projeto em Python que desenvolva as sequintes funções (**def**):\n",
        "\n",
        "&#10139; **Criar Cartela ()**\n",
        "\n",
        "&#10139; **Conversão Decimal-Hexadecimal ()**\n",
        "\n",
        "&#10139; **Sortear Pedra ()**\n",
        "\n",
        "&#10139; **Conferir Pedra ()**\n",
        "\n",
        "&#10139; **Exibir Cartela Hexadecimal ()**\n",
        "\n",
        "&#10139; **Exibir Pontuação ()**\n",
        "\n",
        "&#10139; **Exibir Vencedor/Premiação ()**\n"
      ]
    },
    {
      "cell_type": "markdown",
      "metadata": {
        "id": "ceL2KnlUURy5"
      },
      "source": [
        "## DESENVOLVER AS FUNÇÕES AQUI:"
      ]
    },
    {
      "cell_type": "code",
      "metadata": {
        "id": "xBAIi9lmXEfO"
      },
      "source": [
        "# BIBLIOTECAS AQUI:\n",
        "import random\n",
        "import pandas\n",
        "import numpy\n",
        "import matplotlib.pyplot as plt\n",
        "import matplotlib.style as style\n",
        "import numpy as np\n",
        "import random\n",
        " \n",
        "%matplotlib inline\n",
        "style.use('seaborn-poster')\n"
      ],
      "execution_count": null,
      "outputs": []
    },
    {
      "cell_type": "code",
      "metadata": {
        "id": "W8X2zmHVTaGH"
      },
      "source": [
        "\"\"\"\n",
        "FUNÇÃO: Criar Cartela (4 x 4), com a seguintes características:\n",
        "1: Números Aleatórios: Intervalo entre [16, 159];\n",
        "2: Criar em Decimal (Base 10: 0, 1, 2, 3, 4, 5, 6, 7, 8 e 9)\n",
        "3: NÃO pode ter NÚMEROS REPETIDOS na cartela. Caso seja sorteado um número repetido,\n",
        "o sorteio deve ser refeito até sair um número que ainda não foi sorteado na partida.\n",
        "3: PARÂMETRO NOMINAL: Inserir (de forma OPCIONAL) o Nome do Jogador na Cartela.\n",
        "\"\"\"\n",
        "TAMANHO = 4\n",
        "\n",
        "cartela1 = numpy.zeros((TAMANHO, TAMANHO), dtype=int)\n",
        "cartela2 = numpy.zeros((TAMANHO, TAMANHO), dtype=int)\n",
        "cartela3 = numpy.zeros((TAMANHO, TAMANHO), dtype=int)\n",
        "\n",
        "\n",
        "def CriarCartela1():\n",
        "  NomeJogador1 = input('\\nDigite seu nome (Opcional): ')\n",
        "  \n",
        "  cartela1[:, 0] = np.array(sortearSemRepeticao(16, 159, TAMANHO)).reshape(TAMANHO)\n",
        "  cartela1[:, 1] = np.array(sortearSemRepeticao(16, 159, TAMANHO)).reshape(TAMANHO)\n",
        "  cartela1[:, 2] = np.array(sortearSemRepeticao(16, 159, TAMANHO)).reshape(TAMANHO)\n",
        "  cartela1[:, 3] = np.array(sortearSemRepeticao(16, 159, TAMANHO)).reshape(TAMANHO)\n",
        "  return cartela1\n",
        "\n",
        "\n",
        "def CriarCartela2():\n",
        "\n",
        "  NomeJogador2 = input('\\nDigite seu nome (Opcional): ')\n",
        "  cartela2[:, 0] = np.array(sortearSemRepeticao(16, 159, TAMANHO)).reshape(TAMANHO)\n",
        "  cartela2[:, 1] = np.array(sortearSemRepeticao(16, 159, TAMANHO)).reshape(TAMANHO)\n",
        "  cartela2[:, 2] = np.array(sortearSemRepeticao(16, 159, TAMANHO)).reshape(TAMANHO)\n",
        "  cartela2[:, 3] = np.array(sortearSemRepeticao(16, 159, TAMANHO)).reshape(TAMANHO)\n",
        "  return cartela2\n",
        "\n",
        "\n",
        "def CriarCartela3():\n",
        "  \n",
        "  NomeJogador3 = input('\\nDigite seu nome (Opcional): ')\n",
        "  cartela3[:, 0] = np.array(sortearSemRepeticao(16, 159, TAMANHO)).reshape(TAMANHO)\n",
        "  cartela3[:, 1] = np.array(sortearSemRepeticao(16, 159, TAMANHO)).reshape(TAMANHO)\n",
        "  cartela3[:, 2] = np.array(sortearSemRepeticao(16, 159, TAMANHO)).reshape(TAMANHO)\n",
        "  cartela3[:, 3] = np.array(sortearSemRepeticao(16, 159, TAMANHO)).reshape(TAMANHO)\n",
        "  return cartela3\n",
        "\n"
      ],
      "execution_count": null,
      "outputs": []
    },
    {
      "cell_type": "code",
      "metadata": {
        "id": "8qoQtUn6U_G2"
      },
      "source": [
        "# FUNÇÃO: Conversão Decimal-Hexadecimal ()\n",
        "\n",
        "\n",
        "hexcartela10 = np.array([hex(x)[2:] for x in cartela1[:, 0]])\n",
        "hexcartela11 = np.array([hex(x)[2:] for x in cartela1[:, 1]])\n",
        "hexcartela12 = np.array([hex(x)[2:] for x in cartela1[:, 2]])\n",
        "hexcartela13 = np.array([hex(x)[2:] for x in cartela1[:, 3]])\n",
        "\n",
        "\n",
        "\n",
        "hexcartela20 = np.array([hex(x)[2:] for x in cartela2[:, 0]])\n",
        "hexcartela21 = np.array([hex(x)[2:] for x in cartela2[:, 1]])\n",
        "hexcartela22 = np.array([hex(x)[2:] for x in cartela2[:, 2]])\n",
        "hexcartela23 = np.array([hex(x)[2:] for x in cartela2[:, 3]])\n",
        "\n",
        "\n",
        "\n",
        "hexcartela30 = np.array([hex(x)[2:] for x in cartela3[:, 0]])\n",
        "hexcartela31 = np.array([hex(x)[2:] for x in cartela3[:, 1]])\n",
        "hexcartela32 = np.array([hex(x)[2:] for x in cartela3[:, 2]])\n",
        "hexcartela33 = np.array([hex(x)[2:] for x in cartela3[:, 3]])\n"
      ],
      "execution_count": null,
      "outputs": []
    },
    {
      "cell_type": "code",
      "metadata": {
        "id": "gBQEBgMpUfa3"
      },
      "source": [
        "# FUNÇÃO: Sortear uma (1) Pedra: RANDOM DECIMAL: [16, 159]\n",
        "\n",
        "def SortearPedra():\n",
        "  aleatorio = np.array(random.sample(range(16, 159), 1)).reshape(1)\n",
        "  hex_aleatorio = ([hex(x)[2:] for x in aleatorio])\n",
        "  print(f'-------- NUMERO SORTEADO: {hex_aleatorio}')\n",
        "  return aleatorio"
      ],
      "execution_count": null,
      "outputs": []
    },
    {
      "cell_type": "code",
      "metadata": {
        "id": "4wpvbHyyW-wv"
      },
      "source": [
        "# FUNÇÃO: Conferir Pedra\n",
        "global pontosJogador1 \n",
        "global pontosJogador2 \n",
        "global pontosJogador3 \n",
        "global vitoriasJogador1\n",
        "global vitoriasJogador2 \n",
        "global vitoriasJogador3\n",
        "\n",
        "def checarosnumeros():\n",
        "  opcao = 0\n",
        "  pedras = []\n",
        "  streak = 0\n",
        "  pontosJogador1 = 0\n",
        "  pontosJogador2 = 0\n",
        "  pontosJogador3 = 0\n",
        "  vitoriasJogador1 = 0\n",
        "  vitoriasJogador2 = 0\n",
        "  vitoriasJogador3 = 0\n",
        "  \n",
        "  Numeroatual = SortearPedra()\n",
        "  while (Numeroatual in pedras):\n",
        "    Numeroatual = aleatorio                                          # valor unico\n",
        "    pedras.append(Numeroatual)\n",
        "    \n",
        "  if (Numeroatual in cartela1):\n",
        "                                              # checa se os numeros estão na cartela\n",
        "    print(f'O numero está no cartão 1!') \n",
        "    streak =+1                                          # faz a pontuação\n",
        "    pontosJogador1 == (pontosJogador1 + 100) - streak                                  \n",
        "    vitoriasJogador1 += 1 \n",
        "  elif (Numeroatual in cartela2):\n",
        "                                               # checa se os numeros estão na cartela\n",
        "    print(f'O numero está na cartela 2!')   \n",
        "    streak =+1                                           # faz a pontuação\n",
        "    pontosJogador2 == (pontosJogador3 + 100) - streak                                 \n",
        "    vitoriasJogador2 += 1 \n",
        "  elif (Numeroatual in cartela3):\n",
        "    streak =+1                                           # faz a pontuação\n",
        "    pontosJogador3 == (pontosJogador3 + 100) - streak                                 \n",
        "    vitoriasJogador3 += 1 \n",
        "                                                # checa se os numeros estão na cartela\n",
        "    print(f'O numero está na cartela 3!')  \n",
        "\n",
        "\n",
        "  else:\n",
        "    \n",
        "    print(f'O numero não está em nenhuma cartela')\n",
        "  \n",
        "  if vitoriasJogador1 or vitoriasJogador2 or vitoriasJogador3 == 16:\n",
        "    fimDeJogo()\n",
        " \n",
        "  return pontosJogador1, pontosJogador2, pontosJogador3, vitoriasJogador1, vitoriasJogador2, vitoriasJogador3"
      ],
      "execution_count": null,
      "outputs": []
    },
    {
      "cell_type": "code",
      "metadata": {
        "id": "y_KeLaUAXRtu",
        "outputId": "7abbb9df-f233-4b0e-a1f0-fa010874dfe4",
        "colab": {
          "base_uri": "https://localhost:8080/",
          "height": 85
        }
      },
      "source": [
        "# FUNÇÃO: Exibir Cartela Hexadecimal: 4 x 4\n",
        "\n",
        "def PrintCartela1():\n",
        "  print(f'{hexcartela10} \\n{hexcartela11} \\n{hexcartela12} \\n{hexcartela13}')\n",
        "\n",
        "def PrintCartela2():\n",
        "  print(f'{hexcartela20} \\n{hexcartela21} \\n{hexcartela22} \\n{hexcartela23}')\n",
        "\n",
        "def PrintCartela3():\n",
        "  print(f'{hexcartela30} \\n{hexcartela31} \\n{hexcartela32} \\n{hexcartela33}')\n",
        "\n"
      ],
      "execution_count": null,
      "outputs": [
        {
          "output_type": "stream",
          "text": [
            "['17' '5c' '7f' '7b'] \n",
            "['58' '83' '13' '53'] \n",
            "['42' '8d' '81' '59'] \n",
            "['6f' '50' '44' '32']\n"
          ],
          "name": "stdout"
        }
      ]
    },
    {
      "cell_type": "code",
      "metadata": {
        "id": "9TqHqx3LXrE-",
        "outputId": "f680caf5-8f89-4ae3-936a-2ec80ed2fbbe",
        "colab": {
          "base_uri": "https://localhost:8080/",
          "height": 51
        }
      },
      "source": [
        "# FUNÇÃO: Exibir Vencedor/Premiação\n",
        "# Premiação: R$ 100 - Cada pedra sorteada antes do Vencedor + R$ Maior Número (Decimal) da Cartela.\n",
        "checarosnumeros()\n",
        "def fimDeJogo():\n",
        "  if vitoriasJogador1 == 16:\n",
        "        print(f'BINGO! Parabéns Jogador 1, seu prêmio é de R$ {pontosJogador1 + cartela1.max()}.')\n",
        " \n",
        "  elif vitoriasJogador2 == 16:\n",
        "        print(f'BINGO! Parabéns Jogador 2, seu prêmio é de R$ {pontosJogador2 + cartela2.max()}.')\n",
        " \n",
        "  elif vitoriasJogador3 == 16:\n",
        "        print(f'BINGO! Parabéns Jogador 3, seu prêmio é de R$ {pontosJogador3 + cartela3.max()}.')\n",
        "\n"
      ],
      "execution_count": null,
      "outputs": [
        {
          "output_type": "stream",
          "text": [
            "-------- NUMERO SORTEADO: ['2f']\n",
            "O numero não está em nenhuma cartela\n"
          ],
          "name": "stdout"
        }
      ]
    },
    {
      "cell_type": "code",
      "metadata": {
        "id": "LbHAUt5VXlcQ"
      },
      "source": [
        "# FUNÇÃO: Exibir Pontuação\n",
        "def PrintPontuacao():\n",
        "  fimDeJogo()\n",
        "  print(f'A pontuação do Jogador 1 é {pontosJogador1}')\n",
        "  print(f'A pontuação do Jogador 2 é {pontosJogador2}')\n",
        "  print(f'A pontuação do Jogador 3 é {pontosJogador3}')"
      ],
      "execution_count": null,
      "outputs": []
    },
    {
      "cell_type": "markdown",
      "metadata": {
        "id": "gfsm29gnXyzm"
      },
      "source": [
        "## DESENVOLVER A INTERFACE AQUI:"
      ]
    },
    {
      "cell_type": "code",
      "metadata": {
        "id": "P_ajZK15X189",
        "outputId": "1d8bf2d4-f74a-4a07-a887-e05e8b1f8ea0",
        "colab": {
          "base_uri": "https://localhost:8080/",
          "height": 1000
        }
      },
      "source": [
        "contador = 0\n",
        "\n",
        "aleatorio = 0\n",
        "\n",
        "# Determina os parâmetros para a criação da cada cartela\n",
        "\n",
        "while True:\n",
        "    print('\\nBINGO HEXADECIMAL - MENU:')\n",
        "    print('Opção 1: Criar/Exibir Cartela: ')\n",
        "    print('Opção 2: Sortear/Exibir Pedra')\n",
        "    print('Opção 3: Gerar imagens das cartelas')\n",
        "    print('Opção 0: Sair do Programa')\n",
        "    opcao = int(input('Qual a sua Opção: '))\n",
        "\n",
        "    if opcao == 0:\n",
        "        print('TCHAU!!! - BOA SORTE')\n",
        "        break\n",
        "\n",
        "    elif opcao != 1 and opcao != 2 and opcao != 3:\n",
        "        print('Opcao Incorreta. Escolha de novo.')\n",
        "\n",
        "    elif opcao == 1:\n",
        "        while contador < 3:\n",
        "            if contador == 0:\n",
        "              \n",
        "              HexCartela1()\n",
        "              PrintCartela1()\n",
        "\n",
        "\n",
        "            elif contador == 1:\n",
        "              \n",
        "              HexCartela2()\n",
        "              PrintCartela2()\n",
        "\n",
        "            else:\n",
        "              \n",
        "              HexCartela3()\n",
        "              PrintCartela3()\n",
        "\n",
        "\n",
        "            contador = contador + 1\n",
        "\n",
        "    elif opcao == 2:\n",
        "        checarosnumeros()\n",
        "\n",
        "    elif opcao == 3:\n",
        "        CriarImagemCartela1()\n",
        "        CriarImagemCartela1()\n",
        "        CriarImagemCartela1()\n",
        "        break\n"
      ],
      "execution_count": null,
      "outputs": [
        {
          "output_type": "stream",
          "text": [
            "\n",
            "BINGO HEXADECIMAL - MENU:\n",
            "Opção 1: Criar/Exibir Cartela: \n",
            "Opção 2: Sortear/Exibir Pedra\n",
            "Opção 3: Gerar imagens das cartelas\n",
            "Opção 0: Sair do Programa\n",
            "Qual a sua Opção: 1\n",
            "\n",
            "Digite seu nome (Opcional): \n",
            "\n",
            "Digite seu nome (Opcional): \n",
            "['17' '5c' '7f' '7b'] \n",
            "['58' '83' '13' '53'] \n",
            "['42' '8d' '81' '59'] \n",
            "['6f' '50' '44' '32']\n",
            "\n",
            "Digite seu nome (Opcional): \n",
            "\n",
            "Digite seu nome (Opcional): \n",
            "['38' '50' '79' '22'] \n",
            "['43' '9c' '85' '50'] \n",
            "['91' '9c' '3b' '60'] \n",
            "['81' '59' '4b' '9d']\n",
            "\n",
            "Digite seu nome (Opcional): \n",
            "\n",
            "Digite seu nome (Opcional): \n",
            "['17' '8c' '33' '5b'] \n",
            "['31' '8a' '36' '52'] \n",
            "['71' '41' '57' '34'] \n",
            "['13' '5d' '2f' '65']\n",
            "\n",
            "BINGO HEXADECIMAL - MENU:\n",
            "Opção 1: Criar/Exibir Cartela: \n",
            "Opção 2: Sortear/Exibir Pedra\n",
            "Opção 3: Gerar imagens das cartelas\n",
            "Opção 0: Sair do Programa\n",
            "Qual a sua Opção: 2\n",
            "-------- NUMERO SORTEADO: ['1a']\n",
            "O numero não está em nenhuma cartela\n",
            "\n",
            "BINGO HEXADECIMAL - MENU:\n",
            "Opção 1: Criar/Exibir Cartela: \n",
            "Opção 2: Sortear/Exibir Pedra\n",
            "Opção 3: Gerar imagens das cartelas\n",
            "Opção 0: Sair do Programa\n",
            "Qual a sua Opção: 2\n",
            "-------- NUMERO SORTEADO: ['26']\n",
            "O numero está no cartão 1!\n"
          ],
          "name": "stdout"
        },
        {
          "output_type": "error",
          "ename": "NameError",
          "evalue": "ignored",
          "traceback": [
            "\u001b[0;31m---------------------------------------------------------------------------\u001b[0m",
            "\u001b[0;31mNameError\u001b[0m                                 Traceback (most recent call last)",
            "\u001b[0;32m<ipython-input-32-24559e794bda>\u001b[0m in \u001b[0;36m<module>\u001b[0;34m()\u001b[0m\n\u001b[1;32m     42\u001b[0m \u001b[0;34m\u001b[0m\u001b[0m\n\u001b[1;32m     43\u001b[0m     \u001b[0;32melif\u001b[0m \u001b[0mopcao\u001b[0m \u001b[0;34m==\u001b[0m \u001b[0;36m2\u001b[0m\u001b[0;34m:\u001b[0m\u001b[0;34m\u001b[0m\u001b[0;34m\u001b[0m\u001b[0m\n\u001b[0;32m---> 44\u001b[0;31m         \u001b[0mchecarosnumeros\u001b[0m\u001b[0;34m(\u001b[0m\u001b[0;34m)\u001b[0m\u001b[0;34m\u001b[0m\u001b[0;34m\u001b[0m\u001b[0m\n\u001b[0m\u001b[1;32m     45\u001b[0m \u001b[0;34m\u001b[0m\u001b[0m\n\u001b[1;32m     46\u001b[0m     \u001b[0;32melif\u001b[0m \u001b[0mopcao\u001b[0m \u001b[0;34m==\u001b[0m \u001b[0;36m3\u001b[0m\u001b[0;34m:\u001b[0m\u001b[0;34m\u001b[0m\u001b[0;34m\u001b[0m\u001b[0m\n",
            "\u001b[0;32m<ipython-input-27-882ff7cbbc5c>\u001b[0m in \u001b[0;36mchecarosnumeros\u001b[0;34m()\u001b[0m\n\u001b[1;32m     48\u001b[0m \u001b[0;34m\u001b[0m\u001b[0m\n\u001b[1;32m     49\u001b[0m   \u001b[0;32mif\u001b[0m \u001b[0mvitoriasJogador1\u001b[0m \u001b[0;32mor\u001b[0m \u001b[0mvitoriasJogador2\u001b[0m \u001b[0;32mor\u001b[0m \u001b[0mvitoriasJogador3\u001b[0m \u001b[0;34m==\u001b[0m \u001b[0;36m16\u001b[0m\u001b[0;34m:\u001b[0m\u001b[0;34m\u001b[0m\u001b[0;34m\u001b[0m\u001b[0m\n\u001b[0;32m---> 50\u001b[0;31m     \u001b[0mfimDeJogo\u001b[0m\u001b[0;34m(\u001b[0m\u001b[0;34m)\u001b[0m\u001b[0;34m\u001b[0m\u001b[0;34m\u001b[0m\u001b[0m\n\u001b[0m\u001b[1;32m     51\u001b[0m \u001b[0;34m\u001b[0m\u001b[0m\n\u001b[1;32m     52\u001b[0m   \u001b[0;32mreturn\u001b[0m \u001b[0mpontosJogador1\u001b[0m\u001b[0;34m,\u001b[0m \u001b[0mpontosJogador2\u001b[0m\u001b[0;34m,\u001b[0m \u001b[0mpontosJogador3\u001b[0m\u001b[0;34m,\u001b[0m \u001b[0mvitoriasJogador1\u001b[0m\u001b[0;34m,\u001b[0m \u001b[0mvitoriasJogador2\u001b[0m\u001b[0;34m,\u001b[0m \u001b[0mvitoriasJogador3\u001b[0m\u001b[0;34m\u001b[0m\u001b[0;34m\u001b[0m\u001b[0m\n",
            "\u001b[0;32m<ipython-input-12-01d386917bd8>\u001b[0m in \u001b[0;36mfimDeJogo\u001b[0;34m()\u001b[0m\n\u001b[1;32m      3\u001b[0m \u001b[0mchecarosnumeros\u001b[0m\u001b[0;34m(\u001b[0m\u001b[0;34m)\u001b[0m\u001b[0;34m\u001b[0m\u001b[0;34m\u001b[0m\u001b[0m\n\u001b[1;32m      4\u001b[0m \u001b[0;32mdef\u001b[0m \u001b[0mfimDeJogo\u001b[0m\u001b[0;34m(\u001b[0m\u001b[0;34m)\u001b[0m\u001b[0;34m:\u001b[0m\u001b[0;34m\u001b[0m\u001b[0;34m\u001b[0m\u001b[0m\n\u001b[0;32m----> 5\u001b[0;31m   \u001b[0;32mif\u001b[0m \u001b[0mvitoriasJogador1\u001b[0m \u001b[0;34m==\u001b[0m \u001b[0;36m16\u001b[0m\u001b[0;34m:\u001b[0m\u001b[0;34m\u001b[0m\u001b[0;34m\u001b[0m\u001b[0m\n\u001b[0m\u001b[1;32m      6\u001b[0m         \u001b[0mprint\u001b[0m\u001b[0;34m(\u001b[0m\u001b[0;34mf'BINGO! Parabéns Jogador 1, seu prêmio é de R$ {pontosJogador1 + cartela1.max()}.'\u001b[0m\u001b[0;34m)\u001b[0m\u001b[0;34m\u001b[0m\u001b[0;34m\u001b[0m\u001b[0m\n\u001b[1;32m      7\u001b[0m \u001b[0;34m\u001b[0m\u001b[0m\n",
            "\u001b[0;31mNameError\u001b[0m: name 'vitoriasJogador1' is not defined"
          ]
        }
      ]
    },
    {
      "cell_type": "markdown",
      "metadata": {
        "id": "Cti0ILbwf9e-"
      },
      "source": [
        "## DICAS PARA EXIBIR MELHOR A CARTELA / NÚMEROS SORTEADOS:\n",
        "\n",
        "&#10139;  **IMPORTANTE**: USAR O PANDAS **SOMENTE** NA EXIBIÇÃO."
      ]
    },
    {
      "cell_type": "code",
      "metadata": {
        "id": "_5u_bsbwdmT3"
      },
      "source": [
        "# Por exemplo: Pesquisar a Biblioteca de Plotagem Gráfica do Python: matplotlib\n",
        "\n",
        "def CriarImagemCartela1():\n",
        "  \n",
        "  rowlen= 4  \n",
        "    \n",
        "  fig = plt.figure()\n",
        "  ax = fig.gca()\n",
        "  ax.set_xticks(np.arange(0, rowlen + 1))\n",
        "  ax.set_yticks(np.arange(0, rowlen + 1))\n",
        "  plt.grid()\n",
        "    \n",
        "  for i, word in enumerate(hexcartela10[:rowlen**2]):\n",
        "      x = (i % rowlen) + 0.4\n",
        "      y = int(i / rowlen) + 3.5\n",
        "      ax.annotate(word, xy=(x, y), xytext=(x, y))\n",
        "  for i, word in enumerate(hexcartela11[:rowlen**2]):\n",
        "      x = (i % rowlen) + 0.4\n",
        "      y = int(i / rowlen) + 2.5\n",
        "      ax.annotate(word, xy=(x, y), xytext=(x, y))\n",
        "  for i, word in enumerate(hexcartela12[:rowlen**2]):\n",
        "      x = (i % rowlen) + 0.4\n",
        "      y = int(i / rowlen) + 1.5\n",
        "      ax.annotate(word, xy=(x, y), xytext=(x, y))\n",
        "  for i, word in enumerate(hexcartela13[:rowlen**2]):\n",
        "      x = (i % rowlen) + 0.4\n",
        "      y = int(i / rowlen) + 0.5\n",
        "      ax.annotate(word, xy=(x, y), xytext=(x, y))\n",
        "plt.show()\n",
        "CriarImagemCartela1()"
      ],
      "execution_count": null,
      "outputs": []
    },
    {
      "cell_type": "code",
      "metadata": {
        "id": "pCHTEEuC0eL0"
      },
      "source": [
        "\n",
        "def CriarImagemCartela2():\n",
        "  \n",
        "  rowlen= 4  \n",
        "    \n",
        "  fig = plt.figure()\n",
        "  ax = fig.gca()\n",
        "  ax.set_xticks(np.arange(0, rowlen + 1))\n",
        "  ax.set_yticks(np.arange(0, rowlen + 1))\n",
        "  plt.grid()\n",
        "    \n",
        "  for i, word in enumerate(hexcartela20[:rowlen**2]):\n",
        "      x = (i % rowlen) + 0.4\n",
        "      y = int(i / rowlen) + 3.5\n",
        "      ax.annotate(word, xy=(x, y), xytext=(x, y))\n",
        "  for i, word in enumerate(hexcartela21[:rowlen**2]):\n",
        "      x = (i % rowlen) + 0.4\n",
        "      y = int(i / rowlen) + 2.5\n",
        "      ax.annotate(word, xy=(x, y), xytext=(x, y))\n",
        "  for i, word in enumerate(hexcartela22[:rowlen**2]):\n",
        "      x = (i % rowlen) + 0.4\n",
        "      y = int(i / rowlen) + 1.5\n",
        "      ax.annotate(word, xy=(x, y), xytext=(x, y))\n",
        "  for i, word in enumerate(hexcartela23[:rowlen**2]):\n",
        "      x = (i % rowlen) + 0.4\n",
        "      y = int(i / rowlen) + 0.5\n",
        "      ax.annotate(word, xy=(x, y), xytext=(x, y))\n",
        "plt.show()\n",
        "CriarImagemCartela2()\n"
      ],
      "execution_count": null,
      "outputs": []
    },
    {
      "cell_type": "code",
      "metadata": {
        "id": "IiXzC09A1oYq"
      },
      "source": [
        "\n",
        "def CriarImagemCartela3():\n",
        "  \n",
        "  rowlen= 4  \n",
        "    \n",
        "  fig = plt.figure()\n",
        "  ax = fig.gca()\n",
        "  ax.set_xticks(np.arange(0, rowlen + 1))\n",
        "  ax.set_yticks(np.arange(0, rowlen + 1))\n",
        "  plt.grid()\n",
        "    \n",
        "  for i, word in enumerate(hexcartela30[:rowlen**2]):\n",
        "      x = (i % rowlen) + 0.4\n",
        "      y = int(i / rowlen) + 3.5\n",
        "      ax.annotate(word, xy=(x, y), xytext=(x, y))\n",
        "  for i, word in enumerate(hexcartela31[:rowlen**2]):\n",
        "      x = (i % rowlen) + 0.4\n",
        "      y = int(i / rowlen) + 2.5\n",
        "      ax.annotate(word, xy=(x, y), xytext=(x, y))\n",
        "  for i, word in enumerate(hexcartela32[:rowlen**2]):\n",
        "      x = (i % rowlen) + 0.4\n",
        "      y = int(i / rowlen) + 1.5\n",
        "      ax.annotate(word, xy=(x, y), xytext=(x, y))\n",
        "  for i, word in enumerate(hexcartela33[:rowlen**2]):\n",
        "      x = (i % rowlen) + 0.4\n",
        "      y = int(i / rowlen) + 0.5\n",
        "      ax.annotate(word, xy=(x, y), xytext=(x, y))\n",
        "plt.show()\n",
        "CriarImagemCartela3()"
      ],
      "execution_count": null,
      "outputs": []
    },
    {
      "cell_type": "code",
      "metadata": {
        "id": "ksNvyB_2aU_g"
      },
      "source": [
        "# USAR O PANDAS SOMENTE NA EXIBIÇÃO:\n",
        "# Usar a CRIATIVIDADE DO GRUPO !!! / Pesquisa para EXIBIR A CARTELA (EM HEXADECIMAL):\n",
        "import pandas\n",
        "cartela1 = pandas.DataFrame(CartelaTotal1, \n",
        "                            index=['LINHA 1', 'LINHA 2', 'LINHA 3', 'LINHA 4'], \n",
        "                            columns=['COLUNA A', 'COLUNA B', 'COLUNA C', 'COLUNA D'])\n",
        "cartela1"
      ],
      "execution_count": null,
      "outputs": []
    },
    {
      "cell_type": "code",
      "metadata": {
        "id": "UFF5n3wZqe4W"
      },
      "source": [
        "import pandas\n",
        "cartela2 = pandas.DataFrame(CartelaTotal2, \n",
        "                            index=['LINHA 1', 'LINHA 2', 'LINHA 3', 'LINHA 4'], \n",
        "                            columns=['COLUNA A', 'COLUNA B', 'COLUNA C', 'COLUNA D'])\n",
        "cartela2"
      ],
      "execution_count": null,
      "outputs": []
    },
    {
      "cell_type": "code",
      "metadata": {
        "id": "u159UnRLqf4Y"
      },
      "source": [
        "import pandas\n",
        "cartela3 = pandas.DataFrame(CartelaTotal3, \n",
        "                            index=['LINHA 1', 'LINHA 2', 'LINHA 3', 'LINHA 4'], \n",
        "                            columns=['COLUNA A', 'COLUNA B', 'COLUNA C', 'COLUNA D'])\n",
        "cartela3"
      ],
      "execution_count": null,
      "outputs": []
    },
    {
      "cell_type": "markdown",
      "metadata": {
        "id": "v0QuVQs88Ud6"
      },
      "source": [
        "## **ATENÇÃO - PROBLEMA-DESAFIO** \n",
        "\n",
        "(:-|  : O método RANDINT repeti números já sorteados.)\n",
        "\n",
        "&#10139;  **IMPORTANTE**: Temos que resolver este problema ? Criar Função Nova !!!\n",
        "\n",
        "Ou seja; tente resolver este problema com o pequeno conjunto abaixo antes do trabalho para servir de \"TREINO\". \n",
        "\n",
        "**Após isso, a mesma lógica pode ser usada no trabalho.**\n",
        "\n",
        "BOA SORTE :-) !!!"
      ]
    },
    {
      "cell_type": "code",
      "metadata": {
        "id": "a_pseqdA-JFg"
      },
      "source": [
        "def sortearSemRepeticao(INICIO = 16, FIM = 159, TAMANHO = 4):\n",
        "  # Criar uma função que crie um conjunto de dados (dataset), sem valores repetidos !!!\n",
        "  # Inserir no dataset, somente números não repetidos dentro do intervalo [INICIO, FIM]\n",
        "  _dataset = numpy.zeros(TAMANHO, dtype=int)\n",
        "  numero = numpy.random.randint(INICIO, FIM, 1)                     # Sortear um por um.\n",
        "  _dataset[0] = numero\n",
        "  # Qual a lógica???\n",
        "  l = 1       # l: Linha\n",
        "  while (l < TAMANHO):\n",
        "    numero = numpy.random.randint(INICIO, FIM, 1) # APENAS ESTA VEZ\n",
        "    c = l - 1    # c: Coluna\n",
        "    # variável lógica que verifica se o número já foi sorteado, se SIM: BREAK.\n",
        "    haRepetidos = False   # não\n",
        "    while c != -1:\n",
        "      if _dataset[c] == numero:\n",
        "        haRepetidos = True  # sim\n",
        "        break\n",
        "      c -= 1\n",
        "    if not haRepetidos:\n",
        "      _dataset[l] = numero\n",
        "      l += 1\n",
        "  return _dataset"
      ],
      "execution_count": null,
      "outputs": []
    },
    {
      "cell_type": "code",
      "metadata": {
        "id": "caaaR7qE8vy_"
      },
      "source": [
        "\"\"\"\n",
        "---> PROBLEMA: O método RANDINT repeti números já sorteados.\n",
        "\n",
        "**IMPORTANTE**: Como resolver este problema ? Criar Função Nova !!!\n",
        "\n",
        "\"\"\"\n",
        "import numpy\n",
        "INICIO = 0\n",
        "FIM = 15\n",
        "TAMANHO = 4\n",
        "#sorteados = numpy.random.randint(INICIO, FIM, TAMANHO) # Intervalo: [0, 9]\n",
        "cartela1 = np.array(sortearSemRepeticao(16, 159, TAMANHO))\n",
        "cartela1.sort()\n",
        "cartela1.reshape((4))\n",
        "# PROBLEMA !!! HÁ REPETIÇÃO DE VALORES. "
      ],
      "execution_count": null,
      "outputs": []
    }
  ]
}