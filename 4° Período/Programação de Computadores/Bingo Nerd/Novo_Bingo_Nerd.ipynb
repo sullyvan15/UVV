{
  "nbformat": 4,
  "nbformat_minor": 0,
  "metadata": {
    "colab": {
      "name": "Novo Bingo Nerd.ipynb",
      "provenance": [],
      "collapsed_sections": [
        "8uApeCjD5_Lx"
      ]
    },
    "kernelspec": {
      "display_name": "Python 3",
      "name": "python3"
    }
  },
  "cells": [
    {
      "cell_type": "markdown",
      "metadata": {
        "id": "5clOXMAVwo2W"
      },
      "source": [
        "##Funções:"
      ]
    },
    {
      "cell_type": "code",
      "metadata": {
        "id": "No_b2r3Z5dQT"
      },
      "source": [
        "# BIBLIOTECA\n",
        "\n",
        "import random\n",
        "import pandas\n",
        "import numpy\n",
        "import matplotlib.pyplot as plt\n",
        "import matplotlib.style as style\n",
        "import numpy as np\n",
        "import random"
      ],
      "execution_count": null,
      "outputs": []
    },
    {
      "cell_type": "code",
      "metadata": {
        "id": "aYGkcI235xuw",
        "colab": {
          "base_uri": "https://localhost:8080/"
        },
        "outputId": "8eff03f4-6d72-4721-e05e-6c9b3aa7fd2d"
      },
      "source": [
        "# CRIAR CARTELA\n",
        "TAMANHO = 4\n",
        "cartela1 = numpy.zeros((TAMANHO, TAMANHO), dtype=int)\n",
        "cartela2 = numpy.zeros((TAMANHO, TAMANHO), dtype=int)\n",
        "cartela3 = numpy.zeros((TAMANHO, TAMANHO), dtype=int) \n",
        "\n",
        "def CriarCartela(cartela1, cartela2, cartela3):\n",
        "\n",
        "    cartela1[:] = np.array(np.random.permutation(random.sample(range(16, 159), 16))).reshape(4,4)\n",
        "    cartela2[:] = np.array(np.random.permutation(random.sample(range(16, 159), 16))).reshape(4,4)\n",
        "    cartela3[:] = np.array(np.random.permutation(random.sample(range(16, 159), 16))).reshape(4,4)\n",
        "    return cartela1, cartela2, cartela3\n",
        "CriarCartela(cartela1, cartela2, cartela3)"
      ],
      "execution_count": null,
      "outputs": [
        {
          "output_type": "execute_result",
          "data": {
            "text/plain": [
              "(array([[86, 8d, 11, 65],\n",
              "        [3d, 47, 73, 9b],\n",
              "        [51, 95, 37, 68],\n",
              "        [21, 3a, 75, 19]]), array([[5d, 20, 1f, 43],\n",
              "        [9d, 68, 5a, 50],\n",
              "        [66, 5f, 4e, 33],\n",
              "        [26, 5c, 31, 1b]]), array([[78, 37, 17, 34],\n",
              "        [94, 7d, 7c, 2b],\n",
              "        [11, 4c, 2a, 1a],\n",
              "        [63, 72, 86, 67]]))"
            ]
          },
          "metadata": {
            "tags": []
          },
          "execution_count": 32
        }
      ]
    },
    {
      "cell_type": "code",
      "metadata": {
        "id": "r6IDP-Wo8Zf4"
      },
      "source": [
        "# CONVERTER PARA HEXADECIMAL\n",
        "def HexCartela():\n",
        "    np.set_printoptions(formatter={'int':lambda x: hex(x)[2:]})\n",
        "HexCartela()"
      ],
      "execution_count": null,
      "outputs": []
    },
    {
      "cell_type": "code",
      "metadata": {
        "id": "VM6ylzAtQCdY"
      },
      "source": [
        "# SORTEAR UMA PEDRA\n",
        "def SortearPedra():\n",
        "  aleatorio = np.array(random.sample(range(16, 159), 1))\n",
        "  hex_aleatorio = ([hex(x)[2:] for x in aleatorio])\n",
        "  print(f'-------- NUMERO SORTEADO: {hex_aleatorio}')\n",
        "  return aleatorio"
      ],
      "execution_count": null,
      "outputs": []
    },
    {
      "cell_type": "code",
      "metadata": {
        "id": "B7PvFqNsRbpP"
      },
      "source": [
        "# CONTAGEM DE PO\n",
        "streak = 0\n",
        "pontosJogador1 = 0\n",
        "pontosJogador2 = 0\n",
        "pontosJogador3 = 0\n",
        "vitoriasJogador1 = 0\n",
        "vitoriasJogador2 = 0\n",
        "vitoriasJogador3 = 0\n",
        "def checarosnumeros():\n",
        "  global streak\n",
        "  global pontosJogador1\n",
        "  global pontosJogador2\n",
        "  global pontosJogador3\n",
        "  global vitoriasJogador1\n",
        "  global vitoriasJogador2\n",
        "  global vitoriasJogador3\n",
        "  \n",
        "\n",
        "  pedras = []\n",
        "\n",
        "  Numeroatual = SortearPedra()\n",
        "\n",
        "  \n",
        "  while (Numeroatual in pedras):\n",
        "    Numeroatual = aleatorio                                         \n",
        "    pedras.append(Numeroatual)\n",
        "\n",
        "\n",
        "  if (Numeroatual in cartela1):                           \n",
        "    print(f'O numero está no cartão 1!') \n",
        "    streak = streak + 1                                         \n",
        "    pontosJogador1 = ((pontosJogador1 + 100) - streak)                                  \n",
        "    vitoriasJogador1 = vitoriasJogador1 + 1\n",
        "\n",
        "  elif (Numeroatual in cartela2):                                   \n",
        "    print(f'O numero está na cartela 2!')   \n",
        "    streak = streak + 1                                            \n",
        "    pontosJogador2 = ((pontosJogador2 + 100) - streak)                                \n",
        "    vitoriasJogador2 = vitoriasJogador2 + 1\n",
        "    \n",
        "  elif (Numeroatual in cartela3):\n",
        "    streak = streak + 1                                             \n",
        "    pontosJogador3 = ((pontosJogador3 + 100) - streak)                                 \n",
        "    vitoriasJogador3 =  vitoriasJogador3 + 1                                             \n",
        "    print(f'O numero está na cartela 3!')  \n",
        "\n",
        "\n",
        "  else: \n",
        "    print(f'O numero não está em nenhuma cartela')\n",
        "    return streak, pontosJogador1, pontosJogador2, pontosJogador3, vitoriasJogador1, vitoriasJogador2, vitoriasJogador3"
      ],
      "execution_count": null,
      "outputs": []
    },
    {
      "cell_type": "code",
      "metadata": {
        "id": "9-uu2KgGTatb"
      },
      "source": [
        "#EXBIR EM HEXADECIMAL\n",
        "hx1 = np.array(cartela1)\n",
        "hx2 = np.array(cartela2)\n",
        "hx3 = np.array(cartela3)\n",
        "def PrintCartela(HexCartela):\n",
        "  hx1 = np.array(cartela1)\n",
        "  hx2 = np.array(cartela2)\n",
        "  hx3 = np.array(cartela3)\n",
        "  print(f'{hx1} \\n\\n {hx2} \\n\\n {hx3}')\n",
        "  return hx1, hx2, hx3\n",
        "\n"
      ],
      "execution_count": null,
      "outputs": []
    },
    {
      "cell_type": "code",
      "metadata": {
        "id": "vxIGI0oZZW5k"
      },
      "source": [
        "def fimDeJogo():\n",
        "  global NomeJogador1\n",
        "  global NomeJogador2\n",
        "  global NomeJogador3\n",
        "  global vitoriasJogador1\n",
        "  global vitoriasJogador2\n",
        "  global vitoriasJogador3\n",
        "  \n",
        "  if vitoriasJogador1 == 1:\n",
        "        print(f'BINGO! Parabéns Jogador 1, {NomeJogador1}, seu prêmio é de R$ {pontosJogador1 + cartela1.max()}.')\n",
        "        PrintPontuacao()\n",
        "\n",
        "       \n",
        "  \n",
        "  elif vitoriasJogador2 == 1:\n",
        "        print(f'BINGO! Parabéns Jogador 2, {NomeJogador2}, seu prêmio é de R$ {pontosJogador2 + cartela2.max()}.')\n",
        "        PrintPontuacao()\n",
        "        \n",
        "        \n",
        "  \n",
        "  elif vitoriasJogador3 == 1:\n",
        "        print(f'BINGO! Parabéns Jogador 3, {NomeJogador3}, seu prêmio é de R$ {pontosJogador3 + cartela3.max()}.')\n",
        "        PrintPontuacao()\n",
        "        \n"
      ],
      "execution_count": null,
      "outputs": []
    },
    {
      "cell_type": "code",
      "metadata": {
        "id": "BjkhicWjZals",
        "colab": {
          "base_uri": "https://localhost:8080/"
        },
        "outputId": "734d1b60-4351-4fad-ca41-d56e781d8574"
      },
      "source": [
        "def PrintPontuacao():\n",
        "  global pontosJogador1\n",
        "  global pontosJogador2\n",
        "  global pontosJogador3\n",
        "  print(f'A pontuação do Jogador 1 é {pontosJogador1}')\n",
        "  print(f'A pontuação do Jogador 2 é {pontosJogador2}')\n",
        "  print(f'A pontuação do Jogador 3 é {pontosJogador3}')\n",
        "PrintPontuacao()"
      ],
      "execution_count": null,
      "outputs": [
        {
          "output_type": "stream",
          "text": [
            "A pontuação do Jogador 1 é 0\n",
            "A pontuação do Jogador 2 é 0\n",
            "A pontuação do Jogador 3 é 0\n"
          ],
          "name": "stdout"
        }
      ]
    },
    {
      "cell_type": "markdown",
      "metadata": {
        "id": "8uApeCjD5_Lx"
      },
      "source": [
        "##Metspoit"
      ]
    },
    {
      "cell_type": "code",
      "metadata": {
        "id": "0Bn8KbJB6GXZ",
        "colab": {
          "base_uri": "https://localhost:8080/"
        },
        "outputId": "2b5cef4c-163e-4ebd-a569-113f733ff09c"
      },
      "source": [
        "def CriarImagemCartela1():\n",
        "  \n",
        "  rowlen= 4  \n",
        "    \n",
        "  fig = plt.figure()\n",
        "  ax = fig.gca()\n",
        "  ax.set_xticks(np.arange(0, rowlen + 1))\n",
        "  ax.set_yticks(np.arange(0, rowlen + 1))\n",
        "  plt.grid()\n",
        "  hexcartela10 = ([hex(x)[2:] for x in cartela1[:, 0]])\n",
        "  hexcartela11 = ([hex(x)[2:] for x in cartela1[:, 1]])\n",
        "  hexcartela12 = ([hex(x)[2:] for x in cartela1[:, 2]])\n",
        "  hexcartela13 = ([hex(x)[2:] for x in cartela1[:, 3]])\n",
        "    \n",
        "  for i, word in enumerate(hexcartela10[:rowlen**2]):\n",
        "      x = (i % rowlen) + 0.4\n",
        "      y = int(i / rowlen) + 3.5\n",
        "      ax.annotate(word, xy=(x, y), xytext=(x, y))\n",
        "  for i, word in enumerate(hexcartela11[:rowlen**2]):\n",
        "      x = (i % rowlen) + 0.4\n",
        "      y = int(i / rowlen) + 2.5\n",
        "      ax.annotate(word, xy=(x, y), xytext=(x, y))\n",
        "  for i, word in enumerate(hexcartela12[:rowlen**2]):\n",
        "      x = (i % rowlen) + 0.4\n",
        "      y = int(i / rowlen) + 1.5\n",
        "      ax.annotate(word, xy=(x, y), xytext=(x, y))\n",
        "  for i, word in enumerate(hexcartela13[:rowlen**2]):\n",
        "      x = (i % rowlen) + 0.4\n",
        "      y = int(i / rowlen) + 0.5\n",
        "      ax.annotate(word, xy=(x, y), xytext=(x, y))\n",
        "plt.show()\n",
        "CriarImagemCartela1()"
      ],
      "execution_count": null,
      "outputs": [
        {
          "output_type": "display_data",
          "data": {
            "image/png": "[encoded data removed]",
            "text/plain": [
              "<Figure size 432x288 with 1 Axes>"
            ]
          },
          "metadata": {
            "tags": [],
            "needs_background": "light"
          }
        }
      ]
    },
    {
      "cell_type": "code",
      "metadata": {
        "id": "YE3H107f7N7j",
        "colab": {
          "base_uri": "https://localhost:8080/"
        },
        "outputId": "e339fc19-2e58-4959-f4ef-3bea861b702e"
      },
      "source": [
        "def CriarImagemCartela2():\n",
        "  \n",
        "  rowlen= 4  \n",
        "    \n",
        "  fig = plt.figure()\n",
        "  ax = fig.gca()\n",
        "  ax.set_xticks(np.arange(0, rowlen + 1))\n",
        "  ax.set_yticks(np.arange(0, rowlen + 1))\n",
        "  plt.grid()\n",
        "  hexcartela20 = ([hex(x)[2:] for x in cartela2[:, 0]])\n",
        "  hexcartela21 = ([hex(x)[2:] for x in cartela2[:, 1]])\n",
        "  hexcartela22 = ([hex(x)[2:] for x in cartela2[:, 2]])\n",
        "  hexcartela23 = ([hex(x)[2:] for x in cartela2[:, 3]])\n",
        "      \n",
        "  for i, word in enumerate(hexcartela20[:rowlen**2]):\n",
        "      x = (i % rowlen) + 0.4\n",
        "      y = int(i / rowlen) + 3.5\n",
        "      ax.annotate(word, xy=(x, y), xytext=(x, y))\n",
        "  for i, word in enumerate(hexcartela21[:rowlen**2]):\n",
        "      x = (i % rowlen) + 0.4\n",
        "      y = int(i / rowlen) + 2.5\n",
        "      ax.annotate(word, xy=(x, y), xytext=(x, y))\n",
        "  for i, word in enumerate(hexcartela22[:rowlen**2]):\n",
        "      x = (i % rowlen) + 0.4\n",
        "      y = int(i / rowlen) + 1.5\n",
        "      ax.annotate(word, xy=(x, y), xytext=(x, y))\n",
        "  for i, word in enumerate(hexcartela23[:rowlen**2]):\n",
        "      x = (i % rowlen) + 0.4\n",
        "      y = int(i / rowlen) + 0.5\n",
        "      ax.annotate(word, xy=(x, y), xytext=(x, y))\n",
        "plt.show()\n",
        "CriarImagemCartela1()"
      ],
      "execution_count": null,
      "outputs": [
        {
          "output_type": "display_data",
          "data": {
            "image/png": "[encoded data removed]",
            "text/plain": [
              "<Figure size 432x288 with 1 Axes>"
            ]
          },
          "metadata": {
            "tags": [],
            "needs_background": "light"
          }
        }
      ]
    },
    {
      "cell_type": "code",
      "metadata": {
        "id": "vghquHka7SXz",
        "colab": {
          "base_uri": "https://localhost:8080/"
        },
        "outputId": "fa5aa454-80a9-4784-a5c8-9836a4e12f6a"
      },
      "source": [
        "def CriarImagemCartela3():\n",
        "  \n",
        "  rowlen= 4  \n",
        "    \n",
        "  fig = plt.figure()\n",
        "  ax = fig.gca()\n",
        "  ax.set_xticks(np.arange(0, rowlen + 1))\n",
        "  ax.set_yticks(np.arange(0, rowlen + 1))\n",
        "  plt.grid()\n",
        "  hexcartela30 = ([hex(x)[2:] for x in cartela3[:, 0]])\n",
        "  hexcartela31 = ([hex(x)[2:] for x in cartela3[:, 1]])\n",
        "  hexcartela32 = ([hex(x)[2:] for x in cartela3[:, 2]])\n",
        "  hexcartela33 = ([hex(x)[2:] for x in cartela3[:, 3]])\n",
        "\n",
        "  for i, word in enumerate(hexcartela30[:rowlen**2]):\n",
        "      x = (i % rowlen) + 0.4\n",
        "      y = int(i / rowlen) + 3.5\n",
        "      ax.annotate(word, xy=(x, y), xytext=(x, y))\n",
        "  for i, word in enumerate(hexcartela31[:rowlen**2]):\n",
        "      x = (i % rowlen) + 0.4\n",
        "      y = int(i / rowlen) + 2.5\n",
        "      ax.annotate(word, xy=(x, y), xytext=(x, y))\n",
        "  for i, word in enumerate(hexcartela32[:rowlen**2]):\n",
        "      x = (i % rowlen) + 0.4\n",
        "      y = int(i / rowlen) + 1.5\n",
        "      ax.annotate(word, xy=(x, y), xytext=(x, y))\n",
        "  for i, word in enumerate(hexcartela33[:rowlen**2]):\n",
        "      x = (i % rowlen) + 0.4\n",
        "      y = int(i / rowlen) + 0.5\n",
        "      ax.annotate(word, xy=(x, y), xytext=(x, y))\n",
        "plt.show()\n",
        "CriarImagemCartela1()"
      ],
      "execution_count": null,
      "outputs": [
        {
          "output_type": "display_data",
          "data": {
            "image/png": "[encoded data removed]",
            "text/plain": [
              "<Figure size 432x288 with 1 Axes>"
            ]
          },
          "metadata": {
            "tags": [],
            "needs_background": "light"
          }
        }
      ]
    },
    {
      "cell_type": "markdown",
      "metadata": {
        "id": "_Ip8R6ifwump"
      },
      "source": [
        "##Interface:"
      ]
    },
    {
      "cell_type": "code",
      "metadata": {
        "id": "_t5D7IKDZoIm",
        "colab": {
          "base_uri": "https://localhost:8080/",
          "height": 1000
        },
        "outputId": "f4c54fbb-0991-4c99-88ba-8a3913037f27"
      },
      "source": [
        "contador = 0\n",
        "\n",
        "while True:\n",
        "    print('\\nBINGO HEXADECIMAL - MENU:')\n",
        "    print('Opção 1: Criar/Exibir Cartela: ')\n",
        "    print('Opção 2: Sortear/Exibir Pedra')\n",
        "    print('Opção 3: Gerar imagens das cartelas')\n",
        "    print('Opção 0: Sair do Programa')\n",
        "    opcao = int(input('Qual a sua Opção: '))\n",
        "\n",
        "    if opcao == 0:\n",
        "        print('TCHAU!!! - BOA SORTE')\n",
        "      \n",
        "        break\n",
        "\n",
        "    elif opcao != 1 and opcao != 2 and opcao != 3:\n",
        "        print('Opcao Incorreta. Escolha de novo.')\n",
        "\n",
        "    elif opcao == 1:\n",
        "        while contador < 3:    \n",
        "            if contador == 0:\n",
        "              \n",
        "              NomeJogador1 = input('\\nJogador 1, digite seu nome (Opcional): ')\n",
        "              print(hx1)\n",
        "\n",
        "            elif contador == 1:\n",
        "\n",
        "              NomeJogador2 = input('\\nJogador 2, digite seu nome (Opcional): ')\n",
        "              print(hx2)\n",
        "\n",
        "            else:\n",
        "              NomeJogador3 = input('\\nJogador 3, digite seu nome (Opcional): ')\n",
        "              print(hx3)\n",
        "  \n",
        "\n",
        "            contador = contador + 1\n",
        "\n",
        "    elif opcao == 2:\n",
        "        checarosnumeros()\n",
        "        fimDeJogo()\n",
        "        \n",
        "        \n",
        "\n",
        "    elif opcao == 3:\n",
        "        CriarImagemCartela1()\n",
        "        CriarImagemCartela2()\n",
        "        CriarImagemCartela3()\n",
        "        break\n"
      ],
      "execution_count": null,
      "outputs": [
        {
          "output_type": "stream",
          "text": [
            "\n",
            "BINGO HEXADECIMAL - MENU:\n",
            "Opção 1: Criar/Exibir Cartela: \n",
            "Opção 2: Sortear/Exibir Pedra\n",
            "Opção 3: Gerar imagens das cartelas\n",
            "Opção 0: Sair do Programa\n",
            "Qual a sua Opção: 1\n",
            "\n",
            "Jogador 1, digite seu nome (Opcional): Eduardo\n",
            "[[86 8d 11 65]\n",
            " [3d 47 73 9b]\n",
            " [51 95 37 68]\n",
            " [21 3a 75 19]]\n",
            "\n",
            "Jogador 2, digite seu nome (Opcional): Sullyvan\n",
            "[[5d 20 1f 43]\n",
            " [9d 68 5a 50]\n",
            " [66 5f 4e 33]\n",
            " [26 5c 31 1b]]\n",
            "\n",
            "Jogador 3, digite seu nome (Opcional): James\n",
            "[[78 37 17 34]\n",
            " [94 7d 7c 2b]\n",
            " [11 4c 2a 1a]\n",
            " [63 72 86 67]]\n",
            "\n",
            "BINGO HEXADECIMAL - MENU:\n",
            "Opção 1: Criar/Exibir Cartela: \n",
            "Opção 2: Sortear/Exibir Pedra\n",
            "Opção 3: Gerar imagens das cartelas\n",
            "Opção 0: Sair do Programa\n",
            "Qual a sua Opção: 2\n",
            "-------- NUMERO SORTEADO: ['2c']\n",
            "O numero não está em nenhuma cartela\n",
            "\n",
            "BINGO HEXADECIMAL - MENU:\n",
            "Opção 1: Criar/Exibir Cartela: \n",
            "Opção 2: Sortear/Exibir Pedra\n",
            "Opção 3: Gerar imagens das cartelas\n",
            "Opção 0: Sair do Programa\n",
            "Qual a sua Opção: 2\n",
            "-------- NUMERO SORTEADO: ['9b']\n",
            "O numero está no cartão 1!\n",
            "BINGO! Parabéns Jogador 1, Eduardo, seu prêmio é de R$ 254.\n",
            "A pontuação do Jogador 1 é 99\n",
            "A pontuação do Jogador 2 é 0\n",
            "A pontuação do Jogador 3 é 0\n",
            "\n",
            "BINGO HEXADECIMAL - MENU:\n",
            "Opção 1: Criar/Exibir Cartela: \n",
            "Opção 2: Sortear/Exibir Pedra\n",
            "Opção 3: Gerar imagens das cartelas\n",
            "Opção 0: Sair do Programa\n",
            "Qual a sua Opção: 3\n"
          ],
          "name": "stdout"
        },
        {
          "output_type": "display_data",
          "data": {
            "image/png": "[encoded data removed]",
            "text/plain": [
              "<Figure size 432x288 with 1 Axes>"
            ]
          },
          "metadata": {
            "tags": [],
            "needs_background": "light"
          }
        },
        {
          "output_type": "display_data",
          "data": {
            "image/png": "[encoded data removed]",
            "text/plain": [
              "<Figure size 432x288 with 1 Axes>"
            ]
          },
          "metadata": {
            "tags": [],
            "needs_background": "light"
          }
        },
        {
          "output_type": "display_data",
          "data": {
            "image/png": "[encoded data removed]",
            "text/plain": [
              "<Figure size 432x288 with 1 Axes>"
            ]
          },
          "metadata": {
            "tags": [],
            "needs_background": "light"
          }
        }
      ]
    },
    {
      "cell_type": "markdown",
      "metadata": {
        "id": "DdRaSsUuDe4G"
      },
      "source": [
        "##Pandas:"
      ]
    },
    {
      "cell_type": "code",
      "metadata": {
        "id": "XkHpj3TXDrXO",
        "colab": {
          "base_uri": "https://localhost:8080/",
          "height": 173
        },
        "outputId": "c02996c1-dc78-4132-a0b9-cd1f819269b2"
      },
      "source": [
        "hexcartela10 = ([hex(x)[2:] for x in cartela1[:, 0]])\n",
        "hexcartela11 = ([hex(x)[2:] for x in cartela1[:, 1]])\n",
        "hexcartela12 = ([hex(x)[2:] for x in cartela1[:, 2]])\n",
        "hexcartela13 = ([hex(x)[2:] for x in cartela1[:, 3]])\n",
        "PandaCartela1 = [hexcartela10, hexcartela11, hexcartela12, hexcartela13]\n",
        "\n",
        "\n",
        "cartela1 = pandas.DataFrame(PandaCartela1, \n",
        "                            index=['B', 'IN', 'G', 'O'], \n",
        "                          columns=['B', 'IN', 'G','O'])\n",
        "cartela1"
      ],
      "execution_count": null,
      "outputs": [
        {
          "output_type": "execute_result",
          "data": {
            "text/html": [
              "<div>\n",
              "<style scoped>\n",
              "    .dataframe tbody tr th:only-of-type {\n",
              "        vertical-align: middle;\n",
              "    }\n",
              "\n",
              "    .dataframe tbody tr th {\n",
              "        vertical-align: top;\n",
              "    }\n",
              "\n",
              "    .dataframe thead th {\n",
              "        text-align: right;\n",
              "    }\n",
              "</style>\n",
              "<table border=\"1\" class=\"dataframe\">\n",
              "  <thead>\n",
              "    <tr style=\"text-align: right;\">\n",
              "      <th></th>\n",
              "      <th>B</th>\n",
              "      <th>IN</th>\n",
              "      <th>G</th>\n",
              "      <th>O</th>\n",
              "    </tr>\n",
              "  </thead>\n",
              "  <tbody>\n",
              "    <tr>\n",
              "      <th>B</th>\n",
              "      <td>86</td>\n",
              "      <td>3d</td>\n",
              "      <td>51</td>\n",
              "      <td>21</td>\n",
              "    </tr>\n",
              "    <tr>\n",
              "      <th>IN</th>\n",
              "      <td>8d</td>\n",
              "      <td>47</td>\n",
              "      <td>95</td>\n",
              "      <td>3a</td>\n",
              "    </tr>\n",
              "    <tr>\n",
              "      <th>G</th>\n",
              "      <td>11</td>\n",
              "      <td>73</td>\n",
              "      <td>37</td>\n",
              "      <td>75</td>\n",
              "    </tr>\n",
              "    <tr>\n",
              "      <th>O</th>\n",
              "      <td>65</td>\n",
              "      <td>9b</td>\n",
              "      <td>68</td>\n",
              "      <td>19</td>\n",
              "    </tr>\n",
              "  </tbody>\n",
              "</table>\n",
              "</div>"
            ],
            "text/plain": [
              "     B  IN   G   O\n",
              "B   86  3d  51  21\n",
              "IN  8d  47  95  3a\n",
              "G   11  73  37  75\n",
              "O   65  9b  68  19"
            ]
          },
          "metadata": {
            "tags": []
          },
          "execution_count": 43
        }
      ]
    },
    {
      "cell_type": "code",
      "metadata": {
        "id": "wq_1Ba8iDr8c",
        "colab": {
          "base_uri": "https://localhost:8080/",
          "height": 173
        },
        "outputId": "c7380cbe-3f62-41a7-db04-5b603967afa0"
      },
      "source": [
        "hexcartela20 = ([hex(x)[2:] for x in cartela2[:, 0]])\n",
        "hexcartela21 = ([hex(x)[2:] for x in cartela2[:, 1]])\n",
        "hexcartela22 = ([hex(x)[2:] for x in cartela2[:, 2]])\n",
        "hexcartela23 = ([hex(x)[2:] for x in cartela2[:, 3]])\n",
        "PandaCartela2 =[hexcartela20, hexcartela21, hexcartela22, hexcartela23]\n",
        "\n",
        "cartela2 = pandas.DataFrame(PandaCartela2, \n",
        "                            index=['B', 'IN', 'G', 'O'], \n",
        "                          columns=['B', 'IN', 'G','O'])\n",
        "cartela2"
      ],
      "execution_count": null,
      "outputs": [
        {
          "output_type": "execute_result",
          "data": {
            "text/html": [
              "<div>\n",
              "<style scoped>\n",
              "    .dataframe tbody tr th:only-of-type {\n",
              "        vertical-align: middle;\n",
              "    }\n",
              "\n",
              "    .dataframe tbody tr th {\n",
              "        vertical-align: top;\n",
              "    }\n",
              "\n",
              "    .dataframe thead th {\n",
              "        text-align: right;\n",
              "    }\n",
              "</style>\n",
              "<table border=\"1\" class=\"dataframe\">\n",
              "  <thead>\n",
              "    <tr style=\"text-align: right;\">\n",
              "      <th></th>\n",
              "      <th>B</th>\n",
              "      <th>IN</th>\n",
              "      <th>G</th>\n",
              "      <th>O</th>\n",
              "    </tr>\n",
              "  </thead>\n",
              "  <tbody>\n",
              "    <tr>\n",
              "      <th>B</th>\n",
              "      <td>5d</td>\n",
              "      <td>9d</td>\n",
              "      <td>66</td>\n",
              "      <td>26</td>\n",
              "    </tr>\n",
              "    <tr>\n",
              "      <th>IN</th>\n",
              "      <td>20</td>\n",
              "      <td>68</td>\n",
              "      <td>5f</td>\n",
              "      <td>5c</td>\n",
              "    </tr>\n",
              "    <tr>\n",
              "      <th>G</th>\n",
              "      <td>1f</td>\n",
              "      <td>5a</td>\n",
              "      <td>4e</td>\n",
              "      <td>31</td>\n",
              "    </tr>\n",
              "    <tr>\n",
              "      <th>O</th>\n",
              "      <td>43</td>\n",
              "      <td>50</td>\n",
              "      <td>33</td>\n",
              "      <td>1b</td>\n",
              "    </tr>\n",
              "  </tbody>\n",
              "</table>\n",
              "</div>"
            ],
            "text/plain": [
              "     B  IN   G   O\n",
              "B   5d  9d  66  26\n",
              "IN  20  68  5f  5c\n",
              "G   1f  5a  4e  31\n",
              "O   43  50  33  1b"
            ]
          },
          "metadata": {
            "tags": []
          },
          "execution_count": 44
        }
      ]
    },
    {
      "cell_type": "code",
      "metadata": {
        "id": "qBDrO_nJDxo1",
        "colab": {
          "base_uri": "https://localhost:8080/",
          "height": 173
        },
        "outputId": "62944f0f-62b8-40c3-d4c8-a1a0a91df426"
      },
      "source": [
        "hexcartela30 = ([hex(x)[2:] for x in cartela3[:, 0]])\n",
        "hexcartela31 = ([hex(x)[2:] for x in cartela3[:, 1]])\n",
        "hexcartela32 = ([hex(x)[2:] for x in cartela3[:, 2]])\n",
        "hexcartela33 = ([hex(x)[2:] for x in cartela3[:, 3]])\n",
        "\n",
        "PandaCartela3 = [hexcartela30, hexcartela31, hexcartela32, hexcartela33]\n",
        "cartela3 = pandas.DataFrame(PandaCartela3, \n",
        "                           index=['B', 'IN', 'G', 'O'], \n",
        "                          columns=['B', 'IN', 'G','O'])\n",
        "cartela3"
      ],
      "execution_count": null,
      "outputs": [
        {
          "output_type": "execute_result",
          "data": {
            "text/html": [
              "<div>\n",
              "<style scoped>\n",
              "    .dataframe tbody tr th:only-of-type {\n",
              "        vertical-align: middle;\n",
              "    }\n",
              "\n",
              "    .dataframe tbody tr th {\n",
              "        vertical-align: top;\n",
              "    }\n",
              "\n",
              "    .dataframe thead th {\n",
              "        text-align: right;\n",
              "    }\n",
              "</style>\n",
              "<table border=\"1\" class=\"dataframe\">\n",
              "  <thead>\n",
              "    <tr style=\"text-align: right;\">\n",
              "      <th></th>\n",
              "      <th>B</th>\n",
              "      <th>IN</th>\n",
              "      <th>G</th>\n",
              "      <th>O</th>\n",
              "    </tr>\n",
              "  </thead>\n",
              "  <tbody>\n",
              "    <tr>\n",
              "      <th>B</th>\n",
              "      <td>78</td>\n",
              "      <td>94</td>\n",
              "      <td>11</td>\n",
              "      <td>63</td>\n",
              "    </tr>\n",
              "    <tr>\n",
              "      <th>IN</th>\n",
              "      <td>37</td>\n",
              "      <td>7d</td>\n",
              "      <td>4c</td>\n",
              "      <td>72</td>\n",
              "    </tr>\n",
              "    <tr>\n",
              "      <th>G</th>\n",
              "      <td>17</td>\n",
              "      <td>7c</td>\n",
              "      <td>2a</td>\n",
              "      <td>86</td>\n",
              "    </tr>\n",
              "    <tr>\n",
              "      <th>O</th>\n",
              "      <td>34</td>\n",
              "      <td>2b</td>\n",
              "      <td>1a</td>\n",
              "      <td>67</td>\n",
              "    </tr>\n",
              "  </tbody>\n",
              "</table>\n",
              "</div>"
            ],
            "text/plain": [
              "     B  IN   G   O\n",
              "B   78  94  11  63\n",
              "IN  37  7d  4c  72\n",
              "G   17  7c  2a  86\n",
              "O   34  2b  1a  67"
            ]
          },
          "metadata": {
            "tags": []
          },
          "execution_count": 45
        }
      ]
    }
  ]
}